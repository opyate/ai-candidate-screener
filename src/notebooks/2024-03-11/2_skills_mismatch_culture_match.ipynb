{
 "cells": [
  {
   "cell_type": "code",
   "execution_count": 1,
   "metadata": {},
   "outputs": [],
   "source": [
    "import sys\n",
    "sys.path.insert(0, \"..\")"
   ]
  },
  {
   "cell_type": "code",
   "execution_count": 2,
   "metadata": {},
   "outputs": [],
   "source": [
    "# help(\"modules\")"
   ]
  },
  {
   "cell_type": "code",
   "execution_count": 3,
   "metadata": {},
   "outputs": [
    {
     "name": "stdout",
     "output_type": "stream",
     "text": [
      "Company token length: 1786\n",
      "Candidate token length: 1035\n",
      "Job token length: 263\n",
      "Prompt token length: 3245\n"
     ]
    }
   ],
   "source": [
    "from candidate_screener.main import get_match\n",
    "\n",
    "\n",
    "company_name = \"company1\"\n",
    "candidate_name = \"candidate2\"\n",
    "response = get_match(company_name=company_name, candidate_name=candidate_name)\n",
    "\n"
   ]
  },
  {
   "cell_type": "code",
   "execution_count": 4,
   "metadata": {},
   "outputs": [
    {
     "name": "stdout",
     "output_type": "stream",
     "text": [
      "Based on the provided company description, job description, and candidate's CV, here is an assessment of the candidate's fit for the role:\n",
      "\n",
      "education:\n",
      "    match: 0.2\n",
      "    reason: \"The candidate has a diploma in Chemical Engineering, which is not directly relevant to the Machine Learning Engineer role that requires expertise in AI, LLM, NLP, and AWS.\"\n",
      "\n",
      "skills:\n",
      "    match: 0.3\n",
      "    reason: \"The candidate mentions some general skills like MS Office and portfolio management, but lacks the key skills required for the role such as Machine Learning, AI, LLM, NLP, and AWS. The candidate's background is in Chemical Engineering.\"\n",
      "\n",
      "experience:\n",
      "    match: 0.2\n",
      "    reason: \"The candidate's experience is primarily in tutoring, logistics management, and public education. They do not have any directly relevant experience in developing machine learning models, working with AI/LLM tools, or delivering end-to-end software solutions, which are key requirements for this role.\"\n",
      "\n",
      "Overall, while the candidate expresses passion for environmental causes and has some educational background in engineering, their skills and experience do not align well with the specific requirements of the Machine Learning Engineer position. The company is looking for someone with hands-on experience in AI, LLM, NLP, AWS and delivering software solutions, which the candidate does not demonstrate in their CV.\n"
     ]
    }
   ],
   "source": [
    "print(response[0].text)"
   ]
  },
  {
   "cell_type": "markdown",
   "metadata": {},
   "source": [
    "# response\n",
    "\n",
    "Response valid at Git hash `9717ca2e23e59ee98b8cd8a9e06d4a145b0b2df7`.\n",
    "\n",
    "```\n",
    "Based on the provided company description, job description, and candidate's CV, here is an assessment of the candidate's fit for the role:\n",
    "\n",
    "education:\n",
    "    match: 0.2\n",
    "    reason: \"The candidate has a diploma in Chemical Engineering, which is not directly relevant to the Machine Learning Engineer role that requires expertise in AI, LLM, NLP, and AWS.\"\n",
    "\n",
    "skills:\n",
    "    match: 0.3\n",
    "    reason: \"The candidate mentions some general skills like MS Office and portfolio management, but lacks the key skills required for the role such as Machine Learning, AI, LLM, NLP, and AWS. The candidate's background is in Chemical Engineering.\"\n",
    "\n",
    "experience:\n",
    "    match: 0.2\n",
    "    reason: \"The candidate's experience is primarily in tutoring, logistics management, and public education. They do not have any directly relevant experience in developing machine learning models, working with AI/LLM tools, or delivering end-to-end software solutions, which are key requirements for this role.\"\n",
    "\n",
    "Overall, while the candidate expresses passion for environmental causes and has some educational background in engineering, their skills and experience do not align well with the specific requirements of the Machine Learning Engineer position. The company is looking for someone with hands-on experience in AI, LLM, NLP, AWS and delivering software solutions, which the candidate does not demonstrate in their CV.\n",
    "```"
   ]
  },
  {
   "cell_type": "markdown",
   "metadata": {},
   "source": [
    "# older responses\n",
    "\n",
    "```\n",
    "Dear Cikaya,\n",
    "\n",
    "Thank you for your interest in the Machine Learning Engineer position at Climate Policy Radar. While your passion for the environment and water treatment in Africa is commendable, I'm afraid that based on the information provided, there seems to be a mismatch between your skills and experience and the requirements for this specific role.\n",
    "\n",
    "The company is looking for a candidate with extensive experience in Machine Learning, AI, LLM, AWS, NLP, and end-to-end software development. Your background in Chemical Engineering, while valuable, does not appear to align with the technical skills required for this position.\n",
    "\n",
    "Climate Policy Radar is focused on using data science and artificial intelligence to map and analyze global climate change policies and laws. The Machine Learning Engineer role is crucial in building data extraction tools and shaping the strategy and execution of the project.\n",
    "\n",
    "While your aspirations to improve water treatment in Africa are noble, this particular role may not be the best fit for your current skill set. I would encourage you to continue pursuing your passion for environmental causes and water treatment, and to seek out opportunities that better match your background in Chemical Engineering.\n",
    "\n",
    "Keep in mind that there are many ways to make a positive impact on the environment, and your dedication to this cause is valuable. Consider exploring roles or organizations that focus on water treatment projects in Africa, where your Chemical Engineering knowledge could be directly applied.\n",
    "\n",
    "I appreciate your interest in Climate Policy Radar and wish you the best in your future endeavors.\n",
    "\n",
    "Best regards,\n",
    "The Recruiter\n",
    "```\n",
    "\n",
    "\n",
    "and\n",
    "\n",
    "```\n",
    "Based on the information provided, it does not appear that the candidate is a strong fit for the Machine Learning Engineer role at Climate Policy Radar. Here are the key reasons:\n",
    "\n",
    "1. Lack of relevant technical skills: The job requires expertise in machine learning, AI, LLMs, AWS, NLP, and software development. The candidate's background is in chemical engineering, and they do not mention any experience or skills in the required technical areas.\n",
    "\n",
    "2. Limited work experience: The candidate's work experience is primarily part-time tutoring and assisting a lecturer. They do not have full-time professional experience, particularly in software engineering or machine learning roles.\n",
    "\n",
    "3. Mismatch in career goals: The candidate expresses a passion for environmental issues and water treatment in Africa. While this aligns with Climate Policy Radar's broader mission of addressing climate change, it does not directly relate to the specific responsibilities of the Machine Learning Engineer role.\n",
    "\n",
    "4. Insufficient qualifications: The role likely requires a degree in computer science, software engineering, or a related field. The candidate is pursuing a diploma in chemical engineering, which is not directly relevant.\n",
    "\n",
    "However, there are a few points of alignment:\n",
    "\n",
    "1. Interest in environmental issues: The candidate is passionate about addressing environmental challenges, which aligns with Climate Policy Radar's overall mission.\n",
    "\n",
    "2. Enthusiasm for learning: The candidate seems eager to learn and grow, which is important in a rapidly evolving field like machine learning.\n",
    "\n",
    "In conclusion, while the candidate's passion for the environment is commendable, they do not currently possess the necessary technical skills and experience for the Machine Learning Engineer role at Climate Policy Radar. The company would be better served by candidates with a strong background in machine learning, software development, and relevant technologies like AWS and NLP.\n",
    "```"
   ]
  }
 ],
 "metadata": {
  "kernelspec": {
   "display_name": "culture_fit_bot",
   "language": "python",
   "name": "python3"
  },
  "language_info": {
   "codemirror_mode": {
    "name": "ipython",
    "version": 3
   },
   "file_extension": ".py",
   "mimetype": "text/x-python",
   "name": "python",
   "nbconvert_exporter": "python",
   "pygments_lexer": "ipython3",
   "version": "3.11.8"
  }
 },
 "nbformat": 4,
 "nbformat_minor": 2
}
