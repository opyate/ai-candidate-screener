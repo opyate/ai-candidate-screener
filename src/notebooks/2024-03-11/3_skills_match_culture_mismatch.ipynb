{
 "cells": [
  {
   "cell_type": "code",
   "execution_count": 1,
   "metadata": {},
   "outputs": [],
   "source": [
    "import sys\n",
    "sys.path.insert(0, \"..\")"
   ]
  },
  {
   "cell_type": "code",
   "execution_count": 2,
   "metadata": {},
   "outputs": [],
   "source": [
    "# help(\"modules\")"
   ]
  },
  {
   "cell_type": "code",
   "execution_count": 3,
   "metadata": {},
   "outputs": [
    {
     "name": "stdout",
     "output_type": "stream",
     "text": [
      "Company token length: 1786\n",
      "Candidate token length: 1004\n",
      "Job token length: 263\n",
      "Prompt token length: 3214\n"
     ]
    }
   ],
   "source": [
    "from candidate_screener.main import get_match\n",
    "\n",
    "\n",
    "company_name = \"company1\"\n",
    "candidate_name = \"candidate3\"\n",
    "response = get_match(company_name=company_name, candidate_name=candidate_name)\n",
    "\n"
   ]
  },
  {
   "cell_type": "code",
   "execution_count": 4,
   "metadata": {},
   "outputs": [
    {
     "name": "stdout",
     "output_type": "stream",
     "text": [
      "education:\n",
      "  match: 0.7\n",
      "  reason: \"The candidate has an AI diploma and has completed relevant coursework in deep learning, NLP, and data analysis. However, the job description does not specify required educational qualifications.\"\n",
      "\n",
      "skills:\n",
      "  match: 0.9\n",
      "  reason: \"The candidate has strong skills in machine learning, AI, LLMs, AWS, and NLP, which align well with the key skills required for the role. Experience with .Net is mentioned as beneficial but not essential.\"\n",
      "\n",
      "experience:\n",
      "  match: 0.8\n",
      "  reason: \"The candidate has extensive experience in document understanding, data extraction, and developing end-to-end ML solutions. They have worked on projects involving LLMs, prompt engineering, and fine-tuning foundational models. However, the extent of their experience in defining ML strategy is not explicitly stated.\"\n",
      "\n",
      "Overall, the candidate appears to be a strong fit for the Machine Learning Engineer role at Climate Policy Radar. Their skills and experience align well with the key requirements, and their background in document understanding and data extraction is particularly relevant to the project at hand. The company's mission and values around using AI and data to inform climate policy decisions also seem to match the candidate's interests and expertise.\n",
      "\n",
      "Some areas to explore further in the interview process could be the candidate's experience in shaping ML strategy, their ability to collaborate effectively in a mission-driven non-profit environment, and their specific familiarity with the AWS stack. But based on the information provided, I believe there is a good match between the candidate, role, and company.\n"
     ]
    }
   ],
   "source": [
    "print(response[0].text)"
   ]
  },
  {
   "cell_type": "markdown",
   "metadata": {},
   "source": [
    "# response\n",
    "\n",
    "Response valid at Git hash `9717ca2e23e59ee98b8cd8a9e06d4a145b0b2df7`.\n",
    "\n",
    "```\n",
    "education:\n",
    "  match: 0.7\n",
    "  reason: \"The candidate has an AI diploma and has completed relevant coursework in deep learning, NLP, and data analysis. However, the job description does not specify required educational qualifications.\"\n",
    "\n",
    "skills:\n",
    "  match: 0.9\n",
    "  reason: \"The candidate has strong skills in machine learning, AI, LLMs, AWS, and NLP, which align well with the key skills required for the role. Experience with .Net is mentioned as beneficial but not essential.\"\n",
    "\n",
    "experience:\n",
    "  match: 0.8\n",
    "  reason: \"The candidate has extensive experience in document understanding, data extraction, and developing end-to-end ML solutions. They have worked on projects involving LLMs, prompt engineering, and fine-tuning foundational models. However, the extent of their experience in defining ML strategy is not explicitly stated.\"\n",
    "\n",
    "Overall, the candidate appears to be a strong fit for the Machine Learning Engineer role at Climate Policy Radar. Their skills and experience align well with the key requirements, and their background in document understanding and data extraction is particularly relevant to the project at hand. The company's mission and values around using AI and data to inform climate policy decisions also seem to match the candidate's interests and expertise.\n",
    "\n",
    "Some areas to explore further in the interview process could be the candidate's experience in shaping ML strategy, their ability to collaborate effectively in a mission-driven non-profit environment, and their specific familiarity with the AWS stack. But based on the information provided, I believe there is a good match between the candidate, role, and company.\n",
    "```\n",
    "\n",
    "I'm not happy with how the model failed to flag a culture mismatch. CPR is passionate about the climate, but the candidate is a \"petrolhead\" and motor racer, which is at odds with being \"green\"."
   ]
  }
 ],
 "metadata": {
  "kernelspec": {
   "display_name": "culture_fit_bot",
   "language": "python",
   "name": "python3"
  },
  "language_info": {
   "codemirror_mode": {
    "name": "ipython",
    "version": 3
   },
   "file_extension": ".py",
   "mimetype": "text/x-python",
   "name": "python",
   "nbconvert_exporter": "python",
   "pygments_lexer": "ipython3",
   "version": "3.11.8"
  }
 },
 "nbformat": 4,
 "nbformat_minor": 2
}
