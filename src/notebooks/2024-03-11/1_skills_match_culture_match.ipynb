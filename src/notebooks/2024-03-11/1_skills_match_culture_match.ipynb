{
 "cells": [
  {
   "cell_type": "code",
   "execution_count": 1,
   "metadata": {},
   "outputs": [],
   "source": [
    "import sys\n",
    "sys.path.insert(0, \"..\")"
   ]
  },
  {
   "cell_type": "code",
   "execution_count": 2,
   "metadata": {},
   "outputs": [],
   "source": [
    "# help(\"modules\")"
   ]
  },
  {
   "cell_type": "code",
   "execution_count": 3,
   "metadata": {},
   "outputs": [
    {
     "name": "stdout",
     "output_type": "stream",
     "text": [
      "Company token length: 1786\n",
      "Candidate token length: 1497\n",
      "Job token length: 263\n",
      "Prompt token length: 3707\n"
     ]
    }
   ],
   "source": [
    "from candidate_screener.main import get_match\n",
    "\n",
    "\n",
    "company_name = \"company1\"\n",
    "candidate_name = \"candidate1\"\n",
    "response = get_match(company_name=company_name, candidate_name=candidate_name)\n",
    "\n"
   ]
  },
  {
   "cell_type": "code",
   "execution_count": 4,
   "metadata": {},
   "outputs": [
    {
     "name": "stdout",
     "output_type": "stream",
     "text": [
      "education:\n",
      "  match: 0.8\n",
      "  reason: \"The candidate has an AI diploma and has completed relevant coursework in deep learning, data analysis, and computational investing. However, the job description does not specify required educational background.\"\n",
      "\n",
      "skills:\n",
      "  match: 0.9\n",
      "  reason: \"The candidate has strong experience with machine learning, AI, LLMs, AWS, NLP, and end-to-end software development, which aligns well with the key skills required for the role.\"\n",
      "\n",
      "experience:\n",
      "  match: 0.9\n",
      "  reason: \"The candidate has highly relevant experience developing document data extraction solutions using Python, ML, CV, NLP on AWS/GCP. Recent work includes research into LLMs, prompt engineering, fine-tuning foundational models, and layout detection - all directly applicable to the role.\"\n",
      "\n",
      "Overall, the candidate appears to be a very strong fit for the Machine Learning Engineer position based on their skills and highly relevant experience, despite the job description not specifying educational requirements. The candidate's background in developing AI/ML-powered data extraction tools, including recent research into LLMs and prompt engineering, matches the role's needs quite closely. \n",
      "\n",
      "Additionally, the candidate's personal commitment to climate issues and prior experience in the energy sector (Bulb) and climate policy (Climate Policy Radar) suggests good alignment with the company's mission. The candidate's long track record of remote work and self-directed projects is also promising for integrating well into the company's culture.\n"
     ]
    }
   ],
   "source": [
    "print(response[0].text)"
   ]
  },
  {
   "cell_type": "markdown",
   "metadata": {},
   "source": [
    "# response\n",
    "\n",
    "```\n",
    "education:\n",
    "  match: 0.8\n",
    "  reason: \"The candidate has an AI diploma and has completed relevant coursework in deep learning, data analysis, and computational investing. However, the job description does not specify required educational background.\"\n",
    "\n",
    "skills:\n",
    "  match: 0.9\n",
    "  reason: \"The candidate has strong experience with machine learning, AI, LLMs, AWS, NLP, and end-to-end software development, which aligns well with the key skills required for the role.\"\n",
    "\n",
    "experience:\n",
    "  match: 0.9\n",
    "  reason: \"The candidate has highly relevant experience developing document data extraction solutions using Python, ML, CV, NLP on AWS/GCP. Recent work includes research into LLMs, prompt engineering, fine-tuning foundational models, and layout detection - all directly applicable to the role.\"\n",
    "\n",
    "Overall, the candidate appears to be a very strong fit for the Machine Learning Engineer position based on their skills and highly relevant experience, despite the job description not specifying educational requirements. The candidate's background in developing AI/ML-powered data extraction tools, including recent research into LLMs and prompt engineering, matches the role's needs quite closely. \n",
    "\n",
    "Additionally, the candidate's personal commitment to climate issues and prior experience in the energy sector (Bulb) and climate policy (Climate Policy Radar) suggests good alignment with the company's mission. The candidate's long track record of remote work and self-directed projects is also promising for integrating well into the company's culture.\n",
    "```"
   ]
  },
  {
   "cell_type": "markdown",
   "metadata": {},
   "source": [
    "# older responses\n",
    "\n",
    "```\n",
    "Based on the information provided, there seems to be a strong alignment between the candidate, Juan Uys, and the company, Climate Policy Radar (CPR), as well as the job requirements for the Machine Learning Engineer position. Here's why:\n",
    "\n",
    "1. Alignment with company mission: Juan expresses a strong passion for addressing climate change and saving the planet, which aligns perfectly with CPR's mission to accelerate the transition to a low-carbon, resilient, and just world.\n",
    "\n",
    "2. Relevant experience: Juan has extensive experience (20+ years) in software development and has been focusing on document understanding and data extraction as an independent consultant for over a decade. This directly relates to the job description's requirement for developing a data extraction tool.\n",
    "\n",
    "3. Technical skills: Juan possesses the key skills mentioned in the job description, including machine learning, AI & LLM, AWS, NLP, and end-to-end software development. His experience with Python and other languages is also a good fit.\n",
    "\n",
    "4. Startup experience: Having worked as a CTO and co-founder of a startup, Juan understands the dynamics of working in a small team and the importance of being self-directed, which aligns with CPR's startup nature.\n",
    "\n",
    "5. Remote work experience: Juan has proven experience working remotely and being self-directed, which is essential for the remote nature of the job.\n",
    "\n",
    "6. Personal values: Juan's personal efforts to reduce his carbon footprint and instill planet-saving values in his children demonstrate his commitment to the cause, aligning with CPR's values.\n",
    "\n",
    "7. Domain knowledge: Juan's previous work experience with Bulb (energy) and SaveThePlanet (climate policy) provides relevant domain knowledge that can be beneficial for the role at CPR.\n",
    "\n",
    "In conclusion, given Juan's strong technical skills, relevant experience, startup background, and alignment with CPR's mission and values, he appears to be a strong candidate for the Machine Learning Engineer position at Climate Policy Radar.\n",
    "```"
   ]
  }
 ],
 "metadata": {
  "kernelspec": {
   "display_name": "culture_fit_bot",
   "language": "python",
   "name": "python3"
  },
  "language_info": {
   "codemirror_mode": {
    "name": "ipython",
    "version": 3
   },
   "file_extension": ".py",
   "mimetype": "text/x-python",
   "name": "python",
   "nbconvert_exporter": "python",
   "pygments_lexer": "ipython3",
   "version": "3.11.8"
  }
 },
 "nbformat": 4,
 "nbformat_minor": 2
}
